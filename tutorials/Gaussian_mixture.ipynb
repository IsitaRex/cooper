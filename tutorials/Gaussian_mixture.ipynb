{
 "cells": [
  {
   "cell_type": "code",
   "execution_count": 7,
   "metadata": {},
   "outputs": [],
   "source": [
    "import numpy as np\n",
    "import matplotlib.pyplot as plt\n",
    "\n",
    "import torch\n",
    "from torch.nn.functional import binary_cross_entropy_with_logits as bce_loss\n",
    "\n",
    "import cooper\n",
    "import tutorial_utils\n",
    "import style_utils\n",
    "\n",
    "torch.manual_seed(0)\n",
    "np.random.seed(0)"
   ]
  },
  {
   "cell_type": "markdown",
   "metadata": {},
   "source": [
    "# Mixture of Gaussians\n",
    "\n",
    "This example is inspired by Fig. 2 in Cotter et al. (2019)"
   ]
  },
  {
   "cell_type": "code",
   "execution_count": null,
   "metadata": {},
   "outputs": [],
   "source": [
    "# Generate dataset"
   ]
  },
  {
   "cell_type": "code",
   "execution_count": null,
   "metadata": {},
   "outputs": [],
   "source": [
    "class MixtureSeparation(cooper.ConstrainedMinimizationProblem):\n",
    "    def __init__(self, is_constrained, use_proxy=False):\n",
    "\n",
    "        super().__init__(is_constrained=is_constrained)\n",
    "\n",
    "        self.use_proxy = use_proxy\n",
    "\n",
    "        # Linear predictor\n",
    "        self.linear = torch.nn.Linear(2, 1)\n",
    "\n",
    "    def closure(self, inputs, targets):\n",
    "\n",
    "        logits = self.linear(inputs)\n",
    "        loss=bce_loss(logits, targets),\n",
    "\n",
    "        if not self.is_constrained:\n",
    "            # Unconstrained problem of separating two classes\n",
    "            state = cooper.CMPState(\n",
    "                loss=loss,\n",
    "            )\n",
    "\n",
    "        if self.is_constrained:\n",
    "            # Separating classes s.t. predicting at least 55% as class 0 (blue)\n",
    "\n",
    "            probs = torch.sigmoid(logits)\n",
    "            # Hinge approximation of the rate\n",
    "\n",
    "            if not self.use_proxy:\n",
    "                # Use a proxy for the constraint: a hinge relaxation\n",
    "                state = cooper.CMPState(\n",
    "                    loss=loss,\n",
    "                    ineq_defect=_,\n",
    "                )\n",
    "            else:\n",
    "                # Use non-proxy constraint defects to update the Lagrange multipliers\n",
    "\n",
    "                # Proportion of elements in class 0 is the non-proxy defect\n",
    "                classes = torch.round(probs)\n",
    "                prop_0 = torch.sum(classes == 0) / targets.numel()\n",
    "\n",
    "                state = cooper.CMPState(\n",
    "                    loss=loss,\n",
    "                    ineq_defect=_,\n",
    "                    proxy_defect=0.55 - prop_0, # 55% - prop_0 <= 0\n",
    "                )\n",
    "\n",
    "        return state\n"
   ]
  },
  {
   "cell_type": "markdown",
   "metadata": {},
   "source": [
    "## References\n",
    "\n",
    "- A. Cotter, H. Jiang, M. Gupta, S. Wang, T. Narayan, S. You,\n",
    "and K. Sridharan. Optimization with Non-Differentiable\n",
    "Constraints with Applications to Fairness, Recall, Churn,\n",
    "and Other Goals. In JMLR, 2019."
   ]
  }
 ],
 "metadata": {
  "interpreter": {
   "hash": "e95f21d6d24b9c057dc89e3e94c7b1d285f49ff39a3b96b3de58d480bdf45a1c"
  },
  "kernelspec": {
   "display_name": "Python 3.8.12 ('coop')",
   "language": "python",
   "name": "python3"
  },
  "language_info": {
   "codemirror_mode": {
    "name": "ipython",
    "version": 3
   },
   "file_extension": ".py",
   "mimetype": "text/x-python",
   "name": "python",
   "nbconvert_exporter": "python",
   "pygments_lexer": "ipython3",
   "version": "3.8.12"
  },
  "orig_nbformat": 4
 },
 "nbformat": 4,
 "nbformat_minor": 2
}
